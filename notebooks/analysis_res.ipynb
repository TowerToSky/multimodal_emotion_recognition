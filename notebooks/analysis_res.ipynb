{
 "cells": [
  {
   "cell_type": "code",
   "execution_count": 1,
   "metadata": {},
   "outputs": [
    {
     "name": "stdout",
     "output_type": "stream",
     "text": [
      "/mnt/nvme1/yihaoyuan/Raven/RavenEx/multimodal_emotion_recognition/logs\n",
      "/mnt/nvme1/yihaoyuan/Raven/RavenEx/multimodal_emotion_recognition/logs/independent\n",
      "/mnt/nvme1/yihaoyuan/Raven/RavenEx/multimodal_emotion_recognition/logs/dependent\n"
     ]
    }
   ],
   "source": [
    "import pandas as pd\n",
    "import os\n",
    "from pathlib import Path\n",
    "\n",
    "log_path = os.path.join(Path.cwd().parent, 'logs')\n",
    "print(log_path)\n",
    "\n",
    "independent_path = os.path.join(log_path, 'independent')\n",
    "dependent_path = os.path.join(log_path, 'dependent')\n",
    "\n",
    "print(independent_path)\n",
    "print(dependent_path)"
   ]
  },
  {
   "cell_type": "code",
   "execution_count": 2,
   "metadata": {},
   "outputs": [
    {
     "name": "stdout",
     "output_type": "stream",
     "text": [
      "subject         Mean\n",
      "epoch            NaN\n",
      "acc         0.906254\n",
      "loss        0.384739\n",
      "f1-score    0.901943\n",
      "cm               NaN\n",
      "Name: 31, dtype: object\n",
      "subject         Mean\n",
      "epoch            NaN\n",
      "acc         0.558468\n",
      "loss         1.10841\n",
      "f1-score    0.518974\n",
      "cm               NaN\n",
      "Name: 31, dtype: object\n",
      "0.08941090511312688 0.07538852967270726\n"
     ]
    }
   ],
   "source": [
    "# 2024-12-2 查看非跨被试2分类和4分类结果\n",
    "binary_res = pd.read_excel(\n",
    "    os.path.join(independent_path, \"2024-11-28_22-55-40\", \"history_res.xlsx\")\n",
    ")\n",
    "four_res = pd.read_excel(\n",
    "    os.path.join(independent_path, \"2024-11-28_23-22-25\", \"history_res.xlsx\")\n",
    ")\n",
    "\n",
    "print(binary_res.iloc[31, :])\n",
    "print(four_res.iloc[31, :])\n",
    "\n",
    "# print(binary_res.iloc[:31, 2])\n",
    "binary_std = binary_res.iloc[:31, 2].std()\n",
    "four_std = four_res.iloc[:31, 2].std()\n",
    "print(binary_std, four_std)\n"
   ]
  },
  {
   "cell_type": "code",
   "execution_count": 3,
   "metadata": {},
   "outputs": [
    {
     "name": "stdout",
     "output_type": "stream",
     "text": [
      "subject         Mean\n",
      "epoch            NaN\n",
      "acc         0.826091\n",
      "loss         0.46691\n",
      "f1-score    0.823948\n",
      "cm               NaN\n",
      "Name: 10, dtype: object\n",
      "subject         Mean\n",
      "epoch            NaN\n",
      "acc         0.478492\n",
      "loss        1.227913\n",
      "f1-score    0.460451\n",
      "cm               NaN\n",
      "Name: 10, dtype: object\n",
      "0.027633928518982713 0.02616577253633707\n"
     ]
    }
   ],
   "source": [
    "# 2024-12-2 查看跨被试2分类和4分类结果\n",
    "binary_res = pd.read_excel(\n",
    "    os.path.join(dependent_path, \"2024-11-28_22-56-39\", \"history_res.xlsx\")\n",
    ")\n",
    "four_res = pd.read_excel(\n",
    "    os.path.join(dependent_path, \"2024-11-28_23-23-00\", \"history_res.xlsx\")\n",
    ")\n",
    "\n",
    "print(binary_res.iloc[10, :])\n",
    "print(four_res.iloc[10, :])\n",
    "\n",
    "# print(binary_res.iloc[:10, 2])\n",
    "\n",
    "binary_std = binary_res.iloc[:10, 2].std()\n",
    "four_std = four_res.iloc[:10, 2].std()\n",
    "print(binary_std, four_std)\n"
   ]
  },
  {
   "cell_type": "code",
   "execution_count": 4,
   "metadata": {},
   "outputs": [
    {
     "name": "stdout",
     "output_type": "stream",
     "text": [
      "0.8260905760905759\n"
     ]
    },
    {
     "data": {
      "text/plain": [
       "0.02621584644548067"
      ]
     },
     "execution_count": 4,
     "metadata": {},
     "output_type": "execute_result"
    }
   ],
   "source": [
    "print(binary_res.iloc[-2,2])\n",
    "(sum([(i[2] - binary_res.iloc[-2,2]) ** 2 for i in binary_res.iloc[:10, :].values]) / len(binary_res.iloc[:10, :])) ** 0.5"
   ]
  },
  {
   "cell_type": "code",
   "execution_count": null,
   "metadata": {},
   "outputs": [],
   "source": []
  },
  {
   "cell_type": "code",
   "execution_count": 5,
   "metadata": {},
   "outputs": [
    {
     "name": "stdout",
     "output_type": "stream",
     "text": [
      "0    [[51, 3], [12, 12]]\n",
      "1     [[42, 8], [6, 22]]\n",
      "2    [[44, 12], [5, 17]]\n",
      "3     [[52, 7], [7, 12]]\n",
      "4     [[47, 8], [4, 19]]\n",
      "5    [[55, 3], [10, 10]]\n",
      "6      [[57, 4], [7, 9]]\n",
      "7    [[42, 6], [10, 19]]\n",
      "8     [[37, 8], [2, 30]]\n",
      "9     [[40, 9], [4, 24]]\n",
      "Name: cm, dtype: object\n",
      "[[467  68]\n",
      " [ 67 174]]\n",
      "[534 242]\n",
      "[[467, 68],\n",
      " [ 67,174]]\n",
      "<class 'str'>\n"
     ]
    }
   ],
   "source": [
    "import re\n",
    "import numpy as np\n",
    "# 定义一个函数用于解析混淆矩阵字符串并转换为二维数组（numpy数组形式方便后续计算）\n",
    "def parse_cm(cm_str):\n",
    "    sub_lists_str = re.sub(r'^\\[|\\]$', '', cm_str).split('],[')\n",
    "    cm = np.array([list(map(int, re.findall(r'\\d+', sub_list_str))) for sub_list_str in sub_lists_str])\n",
    "    return cm\n",
    "test_df = binary_res.copy()\n",
    "cm = test_df[\"cm\"]\n",
    "cm.dropna(inplace=True)\n",
    "\n",
    "# 对DataFrame中的每一个混淆矩阵字符串应用解析函数，得到包含二维数组的新列\n",
    "cm['cm_parsed'] = cm.apply(parse_cm)\n",
    "\n",
    "print(cm['cm_parsed'])\n",
    "# 将解析后的二维数组堆叠起来，方便计算每列平均值\n",
    "stacked_cm = np.sum(cm['cm_parsed'].values, axis=0)\n",
    "\n",
    "print(stacked_cm)\n",
    "# 计算平均混淆矩阵（按列求平均）\n",
    "avg_cm = np.sum(stacked_cm,axis=0).astype(int)\n",
    "\n",
    "print(avg_cm)\n",
    "\n",
    "cm_str = np.array2string(stacked_cm, separator=\",\")\n",
    "print(cm_str)\n",
    "print(type(cm_str))"
   ]
  },
  {
   "cell_type": "code",
   "execution_count": 6,
   "metadata": {},
   "outputs": [
    {
     "name": "stdout",
     "output_type": "stream",
     "text": [
      "Index(['acc', 'f1-score'], dtype='object')\n",
      "Index([0, 1, 2, 3, 4, 5, 6, 7, 8, 9, 'Mean', 'Std'], dtype='object', name='subject')\n"
     ]
    },
    {
     "data": {
      "text/html": [
       "<div>\n",
       "<style scoped>\n",
       "    .dataframe tbody tr th:only-of-type {\n",
       "        vertical-align: middle;\n",
       "    }\n",
       "\n",
       "    .dataframe tbody tr th {\n",
       "        vertical-align: top;\n",
       "    }\n",
       "\n",
       "    .dataframe thead th {\n",
       "        text-align: right;\n",
       "    }\n",
       "</style>\n",
       "<table border=\"1\" class=\"dataframe\">\n",
       "  <thead>\n",
       "    <tr style=\"text-align: right;\">\n",
       "      <th>subject</th>\n",
       "      <th>0</th>\n",
       "      <th>1</th>\n",
       "      <th>2</th>\n",
       "      <th>3</th>\n",
       "      <th>4</th>\n",
       "      <th>5</th>\n",
       "      <th>6</th>\n",
       "      <th>7</th>\n",
       "      <th>8</th>\n",
       "      <th>9</th>\n",
       "      <th>Mean</th>\n",
       "      <th>Std</th>\n",
       "    </tr>\n",
       "  </thead>\n",
       "  <tbody>\n",
       "    <tr>\n",
       "      <th>acc/f1-score</th>\n",
       "      <td>0.81/0.79</td>\n",
       "      <td>0.82/0.82</td>\n",
       "      <td>0.78/0.79</td>\n",
       "      <td>0.82/0.82</td>\n",
       "      <td>0.85/0.85</td>\n",
       "      <td>0.83/0.82</td>\n",
       "      <td>0.86/0.85</td>\n",
       "      <td>0.79/0.79</td>\n",
       "      <td>0.87/0.87</td>\n",
       "      <td>0.83/0.83</td>\n",
       "      <td>0.83/0.82</td>\n",
       "      <td>0.00/0.00</td>\n",
       "    </tr>\n",
       "  </tbody>\n",
       "</table>\n",
       "</div>"
      ],
      "text/plain": [
       "subject               0          1          2          3          4  \\\n",
       "acc/f1-score  0.81/0.79  0.82/0.82  0.78/0.79  0.82/0.82  0.85/0.85   \n",
       "\n",
       "subject               5          6          7          8          9  \\\n",
       "acc/f1-score  0.83/0.82  0.86/0.85  0.79/0.79  0.87/0.87  0.83/0.83   \n",
       "\n",
       "subject            Mean        Std  \n",
       "acc/f1-score  0.83/0.82  0.00/0.00  "
      ]
     },
     "execution_count": 6,
     "metadata": {},
     "output_type": "execute_result"
    }
   ],
   "source": [
    "\n",
    "test_df = test_df.drop(columns=[\"epoch\", \"loss\", \"cm\"])\n",
    "test_df = test_df.set_index(\"subject\")\n",
    "test_df = test_df.T\n",
    "# test_df.reset_index(inplace=True)\n",
    "\n",
    "# 两行分别为acc和f1，将两行结果归并到一行，以/分割\n",
    "test_df = test_df.apply(lambda x: x.apply(lambda x: \"{:.2f}\".format(x)))\n",
    "print(test_df.index)\n",
    "print(test_df.columns)\n",
    "\n",
    "# 合并两行数据\n",
    "combined_row = test_df.loc['acc'].astype(str) + '/' + test_df.loc['f1-score'].astype(str)\n",
    "# 创建新的 DataFrame，更新 index 为 'acc/f1-score'\n",
    "new_df = pd.DataFrame([combined_row], index=['acc/f1-score'])\n",
    "new_df.head()\n"
   ]
  },
  {
   "cell_type": "code",
   "execution_count": 8,
   "metadata": {},
   "outputs": [
    {
     "name": "stdout",
     "output_type": "stream",
     "text": [
      "/mnt/nvme1/yihaoyuan/Raven/RavenEx/multimodal_emotion_recognition\n",
      "Namespace(checkpoint=None, config='/mnt/nvme1/yihaoyuan/Raven/RavenEx/multimodal_emotion_recognition/notebooks/config/config.yaml', data='Ruiwen', dependent=None, infer_input=None, mode='train', model='MFAFESM', num_classes=None, resume=False, using_modality=None)\n",
      "[960, 41, 119]\n",
      "['eeg', 'eye', 'au']\n",
      "{'model': {'feature_extract': {'input_dim': 75, 'hidden_dim': 160, 'tok': 0.5}, 'feature_align': {'input_size': [960, 41, 119], 'embed_dim': 160, 'seq_len': 10}, 'fusion': {'embed_dim': 160, 'num_heads': 8, 'd_model': 640}, 'attention_encoder': {'num_layers': 6, 'd_model': 640, 'num_heads': 8, 'd_ff': 2048, 'dropout': 0.1, 'embed_dim': 160}, 'classifier': {'nb_classes': 4, 'embed_dim': 1600}}, 'training': {'ex_name': 'First Fire', 'batch_size': 64, 'epochs': 5, 'learning_rate': 0.0001, 'weight_decay': 0.002, 'optimizer': 'adam', 'loss_function': 'cross_entropy', 'dependent': False, 'n_folds': 10}, 'data': {'data_path': '/data/Ruiwen/data_with_ICA.pkl', 'subject_lists': [2, 3, 4, 5, 6, 7, 8, 9, 10, 11, 12, 13, 14, 15, 16, 17, 18, 19, 20, 21, 22, 24, 25, 26, 27, 28, 29, 30, 31, 33, 34], 'modalities': ['eeg', 'eye', 'au'], 'input_size': [960, 41, 119], 'num_workers': 4, 'ch_nums': 31, 'ex_nums': 48}, 'logging': {'log_dir': '/mnt/nvme1/yihaoyuan/Raven/RavenEx/multimodal_emotion_recognition/logs/independent', 'model_dir': '/mnt/nvme1/yihaoyuan/Raven/RavenEx/multimodal_emotion_recognition/outputs/independent', 'save_best_only': True}, 'device': {'gpu': True, 'gpu_ids': [0]}, 'seed': 42, 'num_classes': 4}\n"
     ]
    }
   ],
   "source": [
    "# yaml文件\n",
    "import os\n",
    "import sys\n",
    "import yaml\n",
    "from pathlib import Path\n",
    "import pandas as pd\n",
    "def add_project_root_to_sys_path():\n",
    "    \"\"\"动态添加项目根目录到 sys.path\"\"\"\n",
    "    project_root = Path.cwd().resolve().parent\n",
    "    print(project_root)\n",
    "    if str(project_root) not in sys.path:\n",
    "        sys.path.append(str(project_root))\n",
    "\n",
    "add_project_root_to_sys_path()\n",
    "\n",
    "from argparse import ArgumentParser\n",
    "from torch.utils.data import DataLoader\n",
    "from torch.optim import Adam\n",
    "from torch.optim.lr_scheduler import StepLR\n",
    "\n",
    "from pathlib import Path\n",
    "from common.utils import (\n",
    "    load_config,\n",
    "    seed_all,\n",
    "    normalize_cm,\n",
    ")  # 假设有一个工具函数来加载配置文件\n",
    "from main import parse_args, modify_config\n",
    "\n",
    "config_path = f\"{Path.cwd().parent}/config/config.yaml\"\n",
    "config = load_config(config_path)\n",
    "args = parse_args(args=[])\n",
    "print(args)\n",
    "\n",
    "config = modify_config(config, args)\n",
    "print(config)\n"
   ]
  },
  {
   "cell_type": "code",
   "execution_count": 9,
   "metadata": {},
   "outputs": [
    {
     "name": "stdout",
     "output_type": "stream",
     "text": [
      "{'model.feature_extract.input_dim': 75, 'model.feature_extract.hidden_dim': 160, 'model.feature_extract.tok': 0.5, 'model.feature_align.input_size': '960,41,119', 'model.feature_align.embed_dim': 160, 'model.feature_align.seq_len': 10, 'model.fusion.embed_dim': 160, 'model.fusion.num_heads': 8, 'model.fusion.d_model': 640, 'model.attention_encoder.num_layers': 6, 'model.attention_encoder.d_model': 640, 'model.attention_encoder.num_heads': 8, 'model.attention_encoder.d_ff': 2048, 'model.attention_encoder.dropout': 0.1, 'model.attention_encoder.embed_dim': 160, 'model.classifier.nb_classes': 4, 'model.classifier.embed_dim': 1600, 'training.ex_name': 'First Fire', 'training.batch_size': 64, 'training.epochs': 5, 'training.learning_rate': 0.0001, 'training.weight_decay': 0.002, 'training.optimizer': 'adam', 'training.loss_function': 'cross_entropy', 'training.dependent': False, 'training.n_folds': 10, 'data.data_path': '/data/Ruiwen/data_with_ICA.pkl', 'data.subject_lists': '2,3,4,5,6,7,8,9,10,11,12,13,14,15,16,17,18,19,20,21,22,24,25,26,27,28,29,30,31,33,34', 'data.modalities': 'eeg,eye,au', 'data.input_size': '960,41,119', 'data.num_workers': 4, 'data.ch_nums': 31, 'data.ex_nums': 48, 'logging.log_dir': '/mnt/nvme1/yihaoyuan/Raven/RavenEx/multimodal_emotion_recognition/logs/independent', 'logging.model_dir': '/mnt/nvme1/yihaoyuan/Raven/RavenEx/multimodal_emotion_recognition/outputs/independent', 'logging.save_best_only': True, 'device.gpu': True, 'device.gpu_ids': '0', 'seed': 42, 'num_classes': 4}\n"
     ]
    }
   ],
   "source": [
    "# {'model': {'feature_extract': {'input_dim': 75, 'hidden_dim': 160, 'tok': 0.5}, 'feature_align': {'input_size': [960, 41, 119], 'embed_dim': 160, 'seq_len': 10}, 'fusion': {'embed_dim': 160, 'num_heads': 8, 'd_model': 160}, 'attention_encoder': {'num_layers': 6, 'd_model': 160, 'num_heads': 8, 'd_ff': 2048, 'dropout': 0.1, 'embed_dim': 160}, 'classifier': {'nb_classes': 4, 'embed_dim': 1600}}, 'training': {'ex_name': 'First Fire', 'batch_size': 64, 'epochs': 300, 'learning_rate': 0.0001, 'weight_decay': 0.002, 'optimizer': 'adam', 'loss_function': 'cross_entropy', 'dependent': False, 'n_folds': 10}, 'data': {'data_path': '/data/Ruiwen/data_with_ICA.pkl', 'subject_lists': [2, 3, 4, 5, 6, 7, 8, 9, 10, 11, 12, 13, 14, 15, 16, 17, 18, 19, 20, 21, 22, 24, 25, 26, 27, 28, 29, 30, 31, 33, 34], 'modalities': ['eeg', 'eye', 'au'], 'input_size': [960, 41, 119], 'num_workers': 4, 'ch_nums': 31, 'ex_nums': 48}, 'logging': {'log_dir': '/mnt/nvme1/yihaoyuan/Raven/RavenEx/multimodal_emotion_recognition/logs/independent', 'model_dir': '/mnt/nvme1/yihaoyuan/Raven/RavenEx/multimodal_emotion_recognition/outputs/independent', 'save_best_only': True}, 'device': {'gpu': True, 'gpu_ids': [0]}, 'seed': 42, 'num_classes': 4}\n",
    "\n",
    "# 递归方式拆解字典，将嵌套字典的key拼接起来形成单个key\n",
    "def dict_format(dic, parent_key=\"\"):\n",
    "    \"\"\"\n",
    "    递归方式拆解字典，将嵌套字典的key拼接起来形成单个key\n",
    "    \"\"\"\n",
    "    items = []\n",
    "    for k, v in dic.items():\n",
    "        new_key = f\"{parent_key}.{k}\" if parent_key else k\n",
    "        if isinstance(v, dict):\n",
    "            items.extend(dict_format(v, new_key).items())\n",
    "        elif isinstance(v, list):\n",
    "            items.append((new_key, \",\".join([str(i) for i in v])))\n",
    "        else:\n",
    "            items.append((new_key, v))\n",
    "    return dict(items)\n",
    "\n",
    "new_config = dict_format(config)\n",
    "print(new_config)"
   ]
  },
  {
   "cell_type": "code",
   "execution_count": 10,
   "metadata": {},
   "outputs": [
    {
     "data": {
      "text/html": [
       "<div>\n",
       "<style scoped>\n",
       "    .dataframe tbody tr th:only-of-type {\n",
       "        vertical-align: middle;\n",
       "    }\n",
       "\n",
       "    .dataframe tbody tr th {\n",
       "        vertical-align: top;\n",
       "    }\n",
       "\n",
       "    .dataframe thead th {\n",
       "        text-align: right;\n",
       "    }\n",
       "</style>\n",
       "<table border=\"1\" class=\"dataframe\">\n",
       "  <thead>\n",
       "    <tr style=\"text-align: right;\">\n",
       "      <th></th>\n",
       "      <th>model.feature_extract.input_dim</th>\n",
       "      <th>model.feature_extract.hidden_dim</th>\n",
       "      <th>model.feature_extract.tok</th>\n",
       "      <th>model.feature_align.input_size</th>\n",
       "      <th>model.feature_align.embed_dim</th>\n",
       "      <th>model.feature_align.seq_len</th>\n",
       "      <th>model.fusion.embed_dim</th>\n",
       "      <th>model.fusion.num_heads</th>\n",
       "      <th>model.fusion.d_model</th>\n",
       "      <th>model.attention_encoder.num_layers</th>\n",
       "      <th>...</th>\n",
       "      <th>data.num_workers</th>\n",
       "      <th>data.ch_nums</th>\n",
       "      <th>data.ex_nums</th>\n",
       "      <th>logging.log_dir</th>\n",
       "      <th>logging.model_dir</th>\n",
       "      <th>logging.save_best_only</th>\n",
       "      <th>device.gpu</th>\n",
       "      <th>device.gpu_ids</th>\n",
       "      <th>seed</th>\n",
       "      <th>num_classes</th>\n",
       "    </tr>\n",
       "  </thead>\n",
       "  <tbody>\n",
       "    <tr>\n",
       "      <th>0</th>\n",
       "      <td>75</td>\n",
       "      <td>160</td>\n",
       "      <td>0.5</td>\n",
       "      <td>960,41,119</td>\n",
       "      <td>160</td>\n",
       "      <td>10</td>\n",
       "      <td>160</td>\n",
       "      <td>8</td>\n",
       "      <td>640</td>\n",
       "      <td>6</td>\n",
       "      <td>...</td>\n",
       "      <td>4</td>\n",
       "      <td>31</td>\n",
       "      <td>48</td>\n",
       "      <td>/mnt/nvme1/yihaoyuan/Raven/RavenEx/multimodal_...</td>\n",
       "      <td>/mnt/nvme1/yihaoyuan/Raven/RavenEx/multimodal_...</td>\n",
       "      <td>True</td>\n",
       "      <td>True</td>\n",
       "      <td>0</td>\n",
       "      <td>42</td>\n",
       "      <td>4</td>\n",
       "    </tr>\n",
       "  </tbody>\n",
       "</table>\n",
       "<p>1 rows × 40 columns</p>\n",
       "</div>"
      ],
      "text/plain": [
       "   model.feature_extract.input_dim  model.feature_extract.hidden_dim  \\\n",
       "0                               75                               160   \n",
       "\n",
       "   model.feature_extract.tok model.feature_align.input_size  \\\n",
       "0                        0.5                     960,41,119   \n",
       "\n",
       "   model.feature_align.embed_dim  model.feature_align.seq_len  \\\n",
       "0                            160                           10   \n",
       "\n",
       "   model.fusion.embed_dim  model.fusion.num_heads  model.fusion.d_model  \\\n",
       "0                     160                       8                   640   \n",
       "\n",
       "   model.attention_encoder.num_layers  ...  data.num_workers  data.ch_nums  \\\n",
       "0                                   6  ...                 4            31   \n",
       "\n",
       "   data.ex_nums                                    logging.log_dir  \\\n",
       "0            48  /mnt/nvme1/yihaoyuan/Raven/RavenEx/multimodal_...   \n",
       "\n",
       "                                   logging.model_dir  logging.save_best_only  \\\n",
       "0  /mnt/nvme1/yihaoyuan/Raven/RavenEx/multimodal_...                    True   \n",
       "\n",
       "   device.gpu device.gpu_ids  seed  num_classes  \n",
       "0        True              0    42            4  \n",
       "\n",
       "[1 rows x 40 columns]"
      ]
     },
     "execution_count": 10,
     "metadata": {},
     "output_type": "execute_result"
    }
   ],
   "source": [
    "config_df = pd.DataFrame(new_config, index=[0])\n",
    "config_df.head()"
   ]
  },
  {
   "cell_type": "code",
   "execution_count": 11,
   "metadata": {},
   "outputs": [
    {
     "data": {
      "text/html": [
       "<div>\n",
       "<style scoped>\n",
       "    .dataframe tbody tr th:only-of-type {\n",
       "        vertical-align: middle;\n",
       "    }\n",
       "\n",
       "    .dataframe tbody tr th {\n",
       "        vertical-align: top;\n",
       "    }\n",
       "\n",
       "    .dataframe thead th {\n",
       "        text-align: right;\n",
       "    }\n",
       "</style>\n",
       "<table border=\"1\" class=\"dataframe\">\n",
       "  <thead>\n",
       "    <tr style=\"text-align: right;\">\n",
       "      <th>subject</th>\n",
       "      <th>0</th>\n",
       "      <th>1</th>\n",
       "      <th>2</th>\n",
       "      <th>3</th>\n",
       "      <th>4</th>\n",
       "      <th>5</th>\n",
       "      <th>6</th>\n",
       "      <th>7</th>\n",
       "      <th>8</th>\n",
       "      <th>9</th>\n",
       "      <th>Mean</th>\n",
       "      <th>Std</th>\n",
       "    </tr>\n",
       "  </thead>\n",
       "  <tbody>\n",
       "    <tr>\n",
       "      <th>acc/f1-score</th>\n",
       "      <td>0.81/0.79</td>\n",
       "      <td>0.82/0.82</td>\n",
       "      <td>0.78/0.79</td>\n",
       "      <td>0.82/0.82</td>\n",
       "      <td>0.85/0.85</td>\n",
       "      <td>0.83/0.82</td>\n",
       "      <td>0.86/0.85</td>\n",
       "      <td>0.79/0.79</td>\n",
       "      <td>0.87/0.87</td>\n",
       "      <td>0.83/0.83</td>\n",
       "      <td>0.83/0.82</td>\n",
       "      <td>0.00/0.00</td>\n",
       "    </tr>\n",
       "  </tbody>\n",
       "</table>\n",
       "</div>"
      ],
      "text/plain": [
       "subject               0          1          2          3          4  \\\n",
       "acc/f1-score  0.81/0.79  0.82/0.82  0.78/0.79  0.82/0.82  0.85/0.85   \n",
       "\n",
       "subject               5          6          7          8          9  \\\n",
       "acc/f1-score  0.83/0.82  0.86/0.85  0.79/0.79  0.87/0.87  0.83/0.83   \n",
       "\n",
       "subject            Mean        Std  \n",
       "acc/f1-score  0.83/0.82  0.00/0.00  "
      ]
     },
     "execution_count": 11,
     "metadata": {},
     "output_type": "execute_result"
    }
   ],
   "source": [
    "new_df.head()"
   ]
  },
  {
   "cell_type": "code",
   "execution_count": 18,
   "metadata": {},
   "outputs": [
    {
     "data": {
      "text/html": [
       "<div>\n",
       "<style scoped>\n",
       "    .dataframe tbody tr th:only-of-type {\n",
       "        vertical-align: middle;\n",
       "    }\n",
       "\n",
       "    .dataframe tbody tr th {\n",
       "        vertical-align: top;\n",
       "    }\n",
       "\n",
       "    .dataframe thead th {\n",
       "        text-align: right;\n",
       "    }\n",
       "</style>\n",
       "<table border=\"1\" class=\"dataframe\">\n",
       "  <thead>\n",
       "    <tr style=\"text-align: right;\">\n",
       "      <th></th>\n",
       "      <th>model.feature_extract.input_dim</th>\n",
       "      <th>model.feature_extract.hidden_dim</th>\n",
       "      <th>model.feature_extract.tok</th>\n",
       "      <th>model.feature_align.input_size</th>\n",
       "      <th>model.feature_align.embed_dim</th>\n",
       "      <th>model.feature_align.seq_len</th>\n",
       "      <th>model.fusion.embed_dim</th>\n",
       "      <th>model.fusion.num_heads</th>\n",
       "      <th>model.fusion.d_model</th>\n",
       "      <th>model.attention_encoder.num_layers</th>\n",
       "      <th>...</th>\n",
       "      <th>2</th>\n",
       "      <th>3</th>\n",
       "      <th>4</th>\n",
       "      <th>5</th>\n",
       "      <th>6</th>\n",
       "      <th>7</th>\n",
       "      <th>8</th>\n",
       "      <th>9</th>\n",
       "      <th>Mean</th>\n",
       "      <th>Std</th>\n",
       "    </tr>\n",
       "  </thead>\n",
       "  <tbody>\n",
       "    <tr>\n",
       "      <th>0</th>\n",
       "      <td>75</td>\n",
       "      <td>160</td>\n",
       "      <td>0.5</td>\n",
       "      <td>960,41,119</td>\n",
       "      <td>160</td>\n",
       "      <td>10</td>\n",
       "      <td>160</td>\n",
       "      <td>8</td>\n",
       "      <td>640</td>\n",
       "      <td>6</td>\n",
       "      <td>...</td>\n",
       "      <td>0.78/0.79</td>\n",
       "      <td>0.82/0.82</td>\n",
       "      <td>0.85/0.85</td>\n",
       "      <td>0.83/0.82</td>\n",
       "      <td>0.86/0.85</td>\n",
       "      <td>0.79/0.79</td>\n",
       "      <td>0.87/0.87</td>\n",
       "      <td>0.83/0.83</td>\n",
       "      <td>0.83/0.82</td>\n",
       "      <td>0.00/0.00</td>\n",
       "    </tr>\n",
       "  </tbody>\n",
       "</table>\n",
       "<p>1 rows × 53 columns</p>\n",
       "</div>"
      ],
      "text/plain": [
       "   model.feature_extract.input_dim  model.feature_extract.hidden_dim  \\\n",
       "0                               75                               160   \n",
       "\n",
       "   model.feature_extract.tok model.feature_align.input_size  \\\n",
       "0                        0.5                     960,41,119   \n",
       "\n",
       "   model.feature_align.embed_dim  model.feature_align.seq_len  \\\n",
       "0                            160                           10   \n",
       "\n",
       "   model.fusion.embed_dim  model.fusion.num_heads  model.fusion.d_model  \\\n",
       "0                     160                       8                   640   \n",
       "\n",
       "   model.attention_encoder.num_layers  ...          2          3          4  \\\n",
       "0                                   6  ...  0.78/0.79  0.82/0.82  0.85/0.85   \n",
       "\n",
       "           5          6          7          8          9       Mean        Std  \n",
       "0  0.83/0.82  0.86/0.85  0.79/0.79  0.87/0.87  0.83/0.83  0.83/0.82  0.00/0.00  \n",
       "\n",
       "[1 rows x 53 columns]"
      ]
     },
     "execution_count": 18,
     "metadata": {},
     "output_type": "execute_result"
    }
   ],
   "source": [
    "# 将两个 DataFrame 横向合并\n",
    "new_df = new_df.reset_index(drop=True)\n",
    "# 将cm放在最后一列\n",
    "config_df[\"cm\"] = cm_str\n",
    "\n",
    "final_df = pd.concat([config_df, new_df], axis=1)\n",
    "final_df.head()"
   ]
  },
  {
   "cell_type": "code",
   "execution_count": 1,
   "metadata": {},
   "outputs": [
    {
     "name": "stdout",
     "output_type": "stream",
     "text": [
      "Macro AUC: 1.0\n",
      "Micro AUC: 0.9999999999999999\n"
     ]
    },
    {
     "ename": "",
     "evalue": "",
     "output_type": "error",
     "traceback": [
      "\u001b[1;31m在当前单元格或上一个单元格中执行代码时 Kernel 崩溃。\n",
      "\u001b[1;31m请查看单元格中的代码，以确定故障的可能原因。\n",
      "\u001b[1;31m单击<a href='https://aka.ms/vscodeJupyterKernelCrash'>此处</a>了解详细信息。\n",
      "\u001b[1;31m有关更多详细信息，请查看 Jupyter <a href='command:jupyter.viewOutput'>log</a>。"
     ]
    }
   ],
   "source": [
    "from sklearn.metrics import roc_auc_score\n",
    "from sklearn.preprocessing import label_binarize\n",
    "import numpy as np\n",
    "\n",
    "# 假设有3个类别（0, 1, 2）\n",
    "y_true = np.array([0, 1, 2, 2, 1, 0])  # 真实标签\n",
    "y_score = np.array([[0.8, 0.1, 0.1],  # 对应的每个样本的预测概率\n",
    "                    [0.2, 0.7, 0.1],\n",
    "                    [0.3, 0.2, 0.5],\n",
    "                    [0.1, 0.2, 0.7],\n",
    "                    [0.4, 0.5, 0.1],\n",
    "                    [0.9, 0.05, 0.05]])\n",
    "\n",
    "# 将标签进行二值化\n",
    "y_true_bin = label_binarize(y_true, classes=[0, 1, 2])\n",
    "\n",
    "# 计算多分类的 AUC，使用 \"macro\" 计算所有类别AUC的均值\n",
    "auc_macro = roc_auc_score(y_true_bin, y_score, average='macro', multi_class='ovr')\n",
    "print(f\"Macro AUC: {auc_macro}\")\n",
    "\n",
    "# 计算 Micro AUC\n",
    "auc_micro = roc_auc_score(y_true_bin, y_score, average='micro', multi_class='ovr')\n",
    "print(f\"Micro AUC: {auc_micro}\")\n"
   ]
  }
 ],
 "metadata": {
  "kernelspec": {
   "display_name": "torch",
   "language": "python",
   "name": "python3"
  },
  "language_info": {
   "codemirror_mode": {
    "name": "ipython",
    "version": 3
   },
   "file_extension": ".py",
   "mimetype": "text/x-python",
   "name": "python",
   "nbconvert_exporter": "python",
   "pygments_lexer": "ipython3",
   "version": "3.8.18"
  }
 },
 "nbformat": 4,
 "nbformat_minor": 2
}
