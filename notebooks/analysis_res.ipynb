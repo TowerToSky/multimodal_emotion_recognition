{
 "cells": [
  {
   "cell_type": "code",
   "execution_count": 10,
   "metadata": {},
   "outputs": [
    {
     "name": "stdout",
     "output_type": "stream",
     "text": [
      "/mnt/nvme1/yihaoyuan/Raven/RavenEx/multimodal_emotion_recognition/logs\n",
      "/mnt/nvme1/yihaoyuan/Raven/RavenEx/multimodal_emotion_recognition/logs/independent\n",
      "/mnt/nvme1/yihaoyuan/Raven/RavenEx/multimodal_emotion_recognition/logs/dependent\n"
     ]
    }
   ],
   "source": [
    "import pandas as pd\n",
    "import os\n",
    "from pathlib import Path\n",
    "\n",
    "log_path = os.path.join(Path.cwd().parent, 'logs')\n",
    "print(log_path)\n",
    "\n",
    "independent_path = os.path.join(log_path, 'independent')\n",
    "dependent_path = os.path.join(log_path, 'dependent')\n",
    "\n",
    "print(independent_path)\n",
    "print(dependent_path)"
   ]
  },
  {
   "cell_type": "code",
   "execution_count": 22,
   "metadata": {},
   "outputs": [
    {
     "name": "stdout",
     "output_type": "stream",
     "text": [
      "subject         Mean\n",
      "epoch            NaN\n",
      "acc         0.906254\n",
      "loss        0.384739\n",
      "f1-score    0.901943\n",
      "cm               NaN\n",
      "Name: 31, dtype: object\n",
      "subject         Mean\n",
      "epoch            NaN\n",
      "acc         0.558468\n",
      "loss         1.10841\n",
      "f1-score    0.518974\n",
      "cm               NaN\n",
      "Name: 31, dtype: object\n",
      "0.08941090511312688 0.07538852967270726\n"
     ]
    }
   ],
   "source": [
    "# 2024-12-2 查看非跨被试2分类和4分类结果\n",
    "binary_res = pd.read_excel(\n",
    "    os.path.join(independent_path, \"2024-11-28_22-55-40\", \"history_res.xlsx\")\n",
    ")\n",
    "four_res = pd.read_excel(\n",
    "    os.path.join(independent_path, \"2024-11-28_23-22-25\", \"history_res.xlsx\")\n",
    ")\n",
    "\n",
    "print(binary_res.iloc[31, :])\n",
    "print(four_res.iloc[31, :])\n",
    "\n",
    "# print(binary_res.iloc[:31, 2])\n",
    "binary_std = binary_res.iloc[:31, 2].std()\n",
    "four_std = four_res.iloc[:31, 2].std()\n",
    "print(binary_std, four_std)\n"
   ]
  },
  {
   "cell_type": "code",
   "execution_count": 23,
   "metadata": {},
   "outputs": [
    {
     "name": "stdout",
     "output_type": "stream",
     "text": [
      "subject         Mean\n",
      "epoch            NaN\n",
      "acc         0.826091\n",
      "loss         0.46691\n",
      "f1-score    0.823948\n",
      "cm               NaN\n",
      "Name: 10, dtype: object\n",
      "subject         Mean\n",
      "epoch            NaN\n",
      "acc         0.478492\n",
      "loss        1.227913\n",
      "f1-score    0.460451\n",
      "cm               NaN\n",
      "Name: 10, dtype: object\n",
      "0.027633928518982713 0.02616577253633707\n"
     ]
    }
   ],
   "source": [
    "# 2024-12-2 查看跨被试2分类和4分类结果\n",
    "binary_res = pd.read_excel(\n",
    "    os.path.join(dependent_path, \"2024-11-28_22-56-39\", \"history_res.xlsx\")\n",
    ")\n",
    "four_res = pd.read_excel(\n",
    "    os.path.join(dependent_path, \"2024-11-28_23-23-00\", \"history_res.xlsx\")\n",
    ")\n",
    "\n",
    "print(binary_res.iloc[10, :])\n",
    "print(four_res.iloc[10, :])\n",
    "\n",
    "# print(binary_res.iloc[:10, 2])\n",
    "\n",
    "binary_std = binary_res.iloc[:10, 2].std()\n",
    "four_std = four_res.iloc[:10, 2].std()\n",
    "print(binary_std, four_std)\n"
   ]
  },
  {
   "cell_type": "code",
   "execution_count": null,
   "metadata": {},
   "outputs": [
    {
     "name": "stdout",
     "output_type": "stream",
     "text": [
      "/mnt/nvme1/yihaoyuan/Raven/RavenEx/multimodal_emotion_recognition\n"
     ]
    },
    {
     "ename": "AttributeError",
     "evalue": "'str' object has no attribute 'model'",
     "output_type": "error",
     "traceback": [
      "\u001b[0;31m---------------------------------------------------------------------------\u001b[0m",
      "\u001b[0;31mAttributeError\u001b[0m                            Traceback (most recent call last)",
      "Cell \u001b[0;32mIn[14], line 31\u001b[0m\n\u001b[1;32m     29\u001b[0m config_path \u001b[38;5;241m=\u001b[39m \u001b[38;5;124mf\u001b[39m\u001b[38;5;124m\"\u001b[39m\u001b[38;5;132;01m{\u001b[39;00mPath\u001b[38;5;241m.\u001b[39mcwd()\u001b[38;5;241m.\u001b[39mparent\u001b[38;5;132;01m}\u001b[39;00m\u001b[38;5;124m/config/config.yaml\u001b[39m\u001b[38;5;124m\"\u001b[39m\n\u001b[1;32m     30\u001b[0m config \u001b[38;5;241m=\u001b[39m load_config(config_path)\n\u001b[0;32m---> 31\u001b[0m config \u001b[38;5;241m=\u001b[39m \u001b[43mmodify_config\u001b[49m\u001b[43m(\u001b[49m\u001b[43mconfig\u001b[49m\u001b[43m,\u001b[49m\u001b[43m \u001b[49m\u001b[43mconfig_path\u001b[49m\u001b[43m)\u001b[49m\n\u001b[1;32m     32\u001b[0m \u001b[38;5;28mprint\u001b[39m(config)\n\u001b[1;32m     34\u001b[0m args \u001b[38;5;241m=\u001b[39m parse_args()\n",
      "File \u001b[0;32m/mnt/nvme1/yihaoyuan/Raven/RavenEx/multimodal_emotion_recognition/main.py:112\u001b[0m, in \u001b[0;36mmodify_config\u001b[0;34m(config, args)\u001b[0m\n\u001b[1;32m    109\u001b[0m config[\u001b[38;5;124m\"\u001b[39m\u001b[38;5;124mmodel\u001b[39m\u001b[38;5;124m\"\u001b[39m][\u001b[38;5;124m\"\u001b[39m\u001b[38;5;124mclassifier\u001b[39m\u001b[38;5;124m\"\u001b[39m][\u001b[38;5;124m\"\u001b[39m\u001b[38;5;124mnb_classes\u001b[39m\u001b[38;5;124m\"\u001b[39m] \u001b[38;5;241m=\u001b[39m config[\u001b[38;5;124m\"\u001b[39m\u001b[38;5;124mnum_classes\u001b[39m\u001b[38;5;124m\"\u001b[39m]\n\u001b[1;32m    111\u001b[0m using_modality \u001b[38;5;241m=\u001b[39m \u001b[38;5;28;01mNone\u001b[39;00m\n\u001b[0;32m--> 112\u001b[0m \u001b[38;5;28;01mif\u001b[39;00m args\u001b[38;5;241m.\u001b[39musing_modality \u001b[38;5;129;01mis\u001b[39;00m \u001b[38;5;129;01mnot\u001b[39;00m \u001b[38;5;28;01mNone\u001b[39;00m:\n\u001b[1;32m    113\u001b[0m     using_modality \u001b[38;5;241m=\u001b[39m args\u001b[38;5;241m.\u001b[39musing_modality\n\u001b[1;32m    114\u001b[0m     using_modality \u001b[38;5;241m=\u001b[39m \u001b[38;5;124m\"\u001b[39m\u001b[38;5;124m\"\u001b[39m\u001b[38;5;241m.\u001b[39mjoin(using_modality)\n",
      "\u001b[0;31mAttributeError\u001b[0m: 'str' object has no attribute 'model'"
     ]
    }
   ],
   "source": [
    "# yaml文件\n",
    "import os\n",
    "import sys\n",
    "import yaml\n",
    "from pathlib import Path\n",
    "import pandas as pd\n",
    "def add_project_root_to_sys_path():\n",
    "    \"\"\"动态添加项目根目录到 sys.path\"\"\"\n",
    "    project_root = Path.cwd().resolve().parent\n",
    "    print(project_root)\n",
    "    if str(project_root) not in sys.path:\n",
    "        sys.path.append(str(project_root))\n",
    "\n",
    "add_project_root_to_sys_path()\n",
    "\n",
    "from argparse import ArgumentParser\n",
    "from torch.utils.data import DataLoader\n",
    "from torch.optim import Adam\n",
    "from torch.optim.lr_scheduler import StepLR\n",
    "\n",
    "from pathlib import Path\n",
    "from common.utils import (\n",
    "    load_config,\n",
    "    seed_all,\n",
    "    normalize_cm,\n",
    ")  # 假设有一个工具函数来加载配置文件\n",
    "from main import parse_args, dict_format, modify_config\n",
    "\n",
    "config_path = f\"{Path.cwd().parent}/config/config.yaml\"\n",
    "config = load_config(config_path)\n",
    "args = parse_args()\n",
    "\n",
    "config = modify_config(config, args)\n",
    "print(config)\n",
    "\n",
    "print(args)\n",
    "str_config = dict_format(config)\n",
    "print(str_config)\n"
   ]
  },
  {
   "cell_type": "code",
   "execution_count": 12,
   "metadata": {},
   "outputs": [
    {
     "ename": "AttributeError",
     "evalue": "'str' object has no attribute 'keys'",
     "output_type": "error",
     "traceback": [
      "\u001b[0;31m---------------------------------------------------------------------------\u001b[0m",
      "\u001b[0;31mAttributeError\u001b[0m                            Traceback (most recent call last)",
      "Cell \u001b[0;32mIn[12], line 1\u001b[0m\n\u001b[0;32m----> 1\u001b[0m \u001b[38;5;28mprint\u001b[39m(\u001b[43mstr_config\u001b[49m\u001b[38;5;241;43m.\u001b[39;49m\u001b[43mkeys\u001b[49m())\n",
      "\u001b[0;31mAttributeError\u001b[0m: 'str' object has no attribute 'keys'"
     ]
    }
   ],
   "source": [
    "print(str_config.keys())"
   ]
  }
 ],
 "metadata": {
  "kernelspec": {
   "display_name": "torch",
   "language": "python",
   "name": "python3"
  },
  "language_info": {
   "codemirror_mode": {
    "name": "ipython",
    "version": 3
   },
   "file_extension": ".py",
   "mimetype": "text/x-python",
   "name": "python",
   "nbconvert_exporter": "python",
   "pygments_lexer": "ipython3",
   "version": "3.8.18"
  }
 },
 "nbformat": 4,
 "nbformat_minor": 2
}
