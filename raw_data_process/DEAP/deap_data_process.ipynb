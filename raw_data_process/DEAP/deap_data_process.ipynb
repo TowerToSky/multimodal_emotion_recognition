{
 "cells": [
  {
   "cell_type": "markdown",
   "metadata": {},
   "source": [
    "# 前沿\n",
    "\n",
    "创建于2024-12-07，旨在处理DEAP数据集，和HCI和Ruiwen数据集一样，供项目进行多模态训练的形式，参考HCI的构建"
   ]
  },
  {
   "cell_type": "code",
   "execution_count": null,
   "metadata": {},
   "outputs": [],
   "source": [
    "\n",
    "import os\n",
    "import sys\n",
    "import yaml\n",
    "from pathlib import Path\n",
    "import pandas as pd\n",
    "import numpy as np\n",
    "import joblib\n",
    "def add_project_root_to_sys_path():\n",
    "    \"\"\"动态添加项目根目录到 sys.path\"\"\"\n",
    "    project_root = Path.cwd().resolve().parent.parent\n",
    "    if str(project_root) not in sys.path:\n",
    "        sys.path.append(str(project_root))\n",
    "\n",
    "add_project_root_to_sys_path()\n",
    "\n",
    "# 首先找到deap处理原始脑电的代码\n",
    "from raw_data_process.hci import data_read as hdr"
   ]
  }
 ],
 "metadata": {
  "kernelspec": {
   "display_name": "torch",
   "language": "python",
   "name": "python3"
  },
  "language_info": {
   "name": "python",
   "version": "3.8.18"
  }
 },
 "nbformat": 4,
 "nbformat_minor": 2
}
