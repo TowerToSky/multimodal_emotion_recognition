{
 "cells": [
  {
   "cell_type": "markdown",
   "metadata": {},
   "source": [
    "# 处理HCI原始数据成符合可供训练的形式\n",
    "\n",
    "具体为封装成为pkl形式，参考于Raven的构建\n",
    "\n",
    "'''\n",
    "\n",
    "dict_keys(['label', 'subject_list', 'ch_info', 'info', 'eye_info', 'eeg', 'eye', 'au'])\n",
    "EEG: 1-70filer, 50Hz notch, With ICA, 256Hz resample;\n",
    "Subject : 1-34 subject, no 1,23,32 subject, 15 subject exists eye data missing; 31 person, 48 question, 31 channel;\n",
    "Labels : 0: Confused,1: Guess, 2:Unconfused, 4: Think-right;\n",
    "Eye Track data : Pupil diameter left, Pupil diameter right,Gaze point X, Gaze point Y, Eye movement type, Gaze event duration\n",
    "['Fp1', 'F3', 'F7', 'FT9', 'FC5', 'FC1', 'C3', 'T7', 'TP9', 'CP5', 'CP1', 'Pz', 'P3', 'P7', 'O1', 'Oz', 'O2', 'P4', 'P8', 'TP10', 'CP6', 'CP2', 'Cz', 'C4', 'T8', 'FT10', 'FC6', 'FC2', 'F4', 'F8', 'Fp2']\n",
    "[2, 3, 4, 5, 6, 7, 8, 9, 10, 11, 12, 13, 14, 15, 16, 17, 18, 19, 20, 21, 22, 24, 25, 26, 27, 28, 29, 30, 31, 33, 34]\n",
    "\n",
    "'''\n"
   ]
  },
  {
   "cell_type": "code",
   "execution_count": 1,
   "metadata": {},
   "outputs": [],
   "source": [
    "\n",
    "import os\n",
    "import sys\n",
    "import yaml\n",
    "from pathlib import Path\n",
    "import pandas as pd\n",
    "import numpy as np\n",
    "import joblib\n",
    "def add_project_root_to_sys_path():\n",
    "    \"\"\"动态添加项目根目录到 sys.path\"\"\"\n",
    "    project_root = Path.cwd().resolve().parent.parent\n",
    "    if str(project_root) not in sys.path:\n",
    "        sys.path.append(str(project_root))\n",
    "\n",
    "add_project_root_to_sys_path()\n",
    "\n",
    "from raw_data_process.hci import data_read as hdr"
   ]
  },
  {
   "cell_type": "code",
   "execution_count": null,
   "metadata": {},
   "outputs": [],
   "source": [
    "data = hdr.get_subject_data(1, nb_classes=2)\n",
    "print(data)"
   ]
  },
  {
   "cell_type": "code",
   "execution_count": 2,
   "metadata": {},
   "outputs": [
    {
     "name": "stdout",
     "output_type": "stream",
     "text": [
      "20\n",
      "(15116, 32)\n",
      "20\n",
      "(22032, 32)\n",
      "20\n",
      "(13840, 32)\n",
      "20\n",
      "(29988, 32)\n",
      "20\n",
      "(15121, 32)\n",
      "20\n",
      "(25257, 32)\n",
      "20\n",
      "(18475, 32)\n",
      "20\n",
      "(13836, 32)\n",
      "20\n",
      "(18186, 32)\n",
      "20\n",
      "(18178, 32)\n",
      "20\n",
      "(15112, 32)\n",
      "20\n",
      "(8965, 32)\n",
      "20\n",
      "(23023, 32)\n",
      "20\n",
      "(22024, 32)\n",
      "20\n",
      "(24841, 32)\n",
      "20\n",
      "(29985, 32)\n",
      "20\n",
      "(15112, 32)\n",
      "20\n",
      "(25265, 32)\n",
      "20\n",
      "(18463, 32)\n",
      "20\n",
      "(13832, 32)\n",
      "20\n",
      "(11052, 32)\n",
      "20\n",
      "(18181, 32)\n",
      "20\n",
      "(22305, 32)\n",
      "20\n",
      "(22544, 32)\n"
     ]
    }
   ],
   "source": [
    "subject_lists = [1, 2, 4, 5, 6, 7, 8, 10, 11, 13, 14, 17, 18, 19, 20, 21, 22, 23, 24, 26, 27, 28, 29, 30]\n",
    "eeg_data = []\n",
    "pps_data = []\n",
    "eye_data = []\n",
    "arousal_labels = []\n",
    "valence_labels = []\n",
    "for sub in subject_lists:\n",
    "    eeg_trials,pps_trials,eye_trials,arousal_label,valence_label  = hdr.get_subject_data(sub, nb_classes=3)\n",
    "    print(len(eeg_trials))\n",
    "    print(eeg_trials[0].shape)\n",
    "    eeg_data.append(eeg_trials)\n",
    "    pps_data.append(pps_trials)\n",
    "    eye_data.append(eye_trials)\n",
    "    arousal_labels.append(arousal_label)\n",
    "    valence_labels.append(valence_label)"
   ]
  },
  {
   "cell_type": "code",
   "execution_count": 3,
   "metadata": {},
   "outputs": [
    {
     "name": "stdout",
     "output_type": "stream",
     "text": [
      "24\n",
      "24\n",
      "24\n",
      "[[0, 2, 1, 1, 0, 1, 1, 1, 2, 1, 2, 0, 2, 0, 1, 0, 0, 1, 0, 1], [1, 0, 0, 0, 1, 0, 0, 1, 2, 2, 0, 0, 1, 0, 0, 2, 1, 2, 2, 2], [1, 1, 2, 0, 2, 2, 1, 0, 0, 0, 0, 1, 1, 1, 1, 0, 2, 0, 2, 0], [0, 2, 1, 1, 1, 2, 2, 2, 2, 1, 0, 1, 1, 2, 2, 1, 1, 0, 1, 0], [0, 1, 0, 2, 1, 2, 1, 0, 0, 1, 2, 2, 0, 1, 0, 0, 2, 0, 1, 1], [1, 2, 2, 2, 0, 0, 0, 1, 2, 2, 0, 0, 2, 0, 0, 0, 2, 1, 0, 0], [2, 0, 1, 0, 0, 0, 0, 2, 1, 0, 1, 0, 0, 2, 2, 1, 2, 1, 1, 0], [0, 1, 2, 2, 0, 1, 1, 0, 0, 0, 0, 1, 1, 1, 0, 0, 0, 1, 0, 2], [2, 0, 1, 0, 2, 0, 2, 1, 2, 1, 1, 0, 2, 2, 0, 0, 0, 2, 1, 0], [2, 1, 1, 0, 0, 0, 0, 1, 2, 1, 1, 0, 0, 1, 0, 0, 1, 2, 0, 0], [1, 0, 1, 1, 0, 2, 0, 2, 1, 0, 2, 1, 0, 1, 0, 0, 0, 0, 0, 1], [2, 0, 0, 1, 1, 1, 1, 0, 0, 0, 1, 1, 0, 2, 0, 2, 2, 0, 2, 1], [0, 1, 2, 0, 0, 0, 1, 0, 0, 1, 1, 2, 1, 2, 0, 1, 0, 0, 1, 2], [1, 0, 0, 2, 1, 0, 0, 1, 0, 2, 0, 2, 0, 1, 1, 1, 0, 2, 2, 1], [1, 0, 1, 0, 0, 1, 2, 2, 2, 0, 1, 1, 0, 1, 1, 2, 1, 0, 0, 0], [0, 0, 1, 1, 1, 2, 0, 0, 2, 0, 0, 1, 2, 2, 0, 1, 1, 0, 1, 0], [0, 1, 0, 2, 1, 0, 1, 1, 0, 1, 2, 2, 0, 1, 2, 0, 0, 0, 1, 1], [1, 2, 0, 0, 0, 0, 1, 1, 1, 2, 0, 1, 2, 0, 0, 0, 1, 1, 0, 1], [2, 0, 1, 0, 0, 1, 0, 2, 0, 1, 1, 0, 0, 0, 2, 1, 0, 1, 1, 0], [0, 0, 2, 2, 1, 1, 1, 0, 0, 2, 0, 1, 1, 1, 1, 0, 2, 0, 2, 0], [1, 2, 0, 1, 2, 0, 2, 0, 1, 1, 0, 1, 0, 0, 1, 1, 1, 0, 0, 2], [0, 1, 1, 0, 0, 0, 2, 1, 2, 1, 1, 0, 0, 1, 0, 0, 1, 2, 0, 0], [1, 0, 0, 0, 1, 1, 0, 1, 0, 0, 2, 0, 1, 0, 0, 2, 0, 0, 0, 1], [0, 0, 1, 1, 0, 1, 1, 0, 1, 0, 2, 0, 0, 0, 1, 0, 2, 1, 0, 1]]\n",
      "[[0, 1, 2, 2, 1, 2, 2, 2, 0, 2, 1, 0, 0, 0, 2, 0, 1, 2, 1, 2], [2, 0, 1, 0, 2, 0, 0, 2, 0, 1, 0, 1, 2, 1, 0, 0, 2, 0, 0, 0], [2, 2, 0, 0, 0, 1, 2, 1, 0, 1, 1, 2, 2, 2, 2, 1, 1, 0, 0, 0], [0, 0, 2, 2, 2, 0, 1, 0, 0, 2, 0, 2, 2, 1, 1, 2, 2, 0, 2, 1], [0, 2, 1, 0, 2, 0, 2, 0, 1, 2, 0, 0, 0, 2, 0, 0, 0, 1, 2, 2], [2, 0, 0, 0, 0, 0, 1, 2, 0, 0, 1, 0, 0, 0, 0, 1, 0, 2, 1, 0], [0, 0, 2, 0, 0, 1, 0, 1, 2, 1, 2, 0, 1, 1, 0, 2, 0, 2, 2, 1], [0, 2, 0, 0, 1, 2, 2, 0, 0, 1, 0, 2, 2, 2, 1, 1, 1, 2, 1, 1], [0, 1, 2, 0, 1, 1, 0, 2, 0, 2, 2, 1, 0, 0, 0, 0, 1, 0, 2, 1], [1, 2, 2, 1, 0, 1, 0, 2, 0, 2, 2, 1, 0, 2, 0, 0, 2, 0, 1, 1], [2, 1, 2, 2, 1, 0, 0, 0, 2, 1, 0, 2, 1, 2, 0, 1, 0, 0, 1, 2], [0, 1, 0, 2, 2, 2, 2, 0, 1, 0, 2, 2, 1, 0, 0, 0, 1, 0, 0, 2], [1, 2, 0, 1, 0, 1, 2, 0, 1, 2, 2, 0, 2, 0, 1, 2, 1, 1, 2, 1], [2, 1, 1, 0, 2, 0, 0, 2, 1, 0, 1, 1, 1, 2, 2, 2, 1, 0, 0, 2], [2, 0, 2, 0, 1, 2, 0, 0, 1, 0, 2, 2, 1, 2, 2, 0, 2, 1, 1, 0], [0, 0, 2, 2, 2, 0, 1, 0, 0, 1, 0, 2, 1, 0, 1, 2, 2, 0, 2, 1], [0, 2, 1, 0, 2, 0, 2, 2, 1, 2, 0, 1, 0, 2, 0, 0, 1, 1, 2, 2], [2, 0, 0, 0, 0, 0, 2, 2, 2, 0, 1, 2, 1, 0, 0, 1, 2, 2, 1, 2], [0, 0, 2, 1, 0, 2, 0, 0, 1, 2, 2, 1, 1, 1, 1, 2, 0, 2, 2, 1], [0, 1, 0, 0, 2, 2, 2, 0, 0, 0, 0, 2, 2, 2, 2, 1, 0, 0, 1, 0], [2, 0, 1, 2, 0, 0, 0, 1, 2, 2, 0, 2, 0, 1, 2, 2, 2, 0, 1, 0], [0, 2, 2, 0, 0, 1, 0, 2, 0, 2, 2, 1, 0, 2, 0, 0, 2, 1, 1, 1], [2, 0, 0, 1, 2, 2, 0, 2, 0, 1, 0, 0, 2, 0, 0, 0, 0, 1, 1, 2], [1, 1, 2, 2, 0, 2, 2, 1, 2, 0, 0, 0, 1, 1, 2, 1, 0, 2, 0, 2]]\n"
     ]
    }
   ],
   "source": [
    "print(len(eeg_data))\n",
    "print(len(pps_data))\n",
    "print(len(eye_data))\n",
    "print(arousal_labels)\n",
    "print(valence_labels)"
   ]
  },
  {
   "cell_type": "code",
   "execution_count": 4,
   "metadata": {},
   "outputs": [
    {
     "name": "stdout",
     "output_type": "stream",
     "text": [
      "39\n"
     ]
    }
   ],
   "source": [
    "ch_info = ['Fp1', 'AF3', 'F3', 'F7', 'FC5', 'FC1', 'C3', 'T7', 'CP5', 'CP1', 'P3', 'P7', 'PO3', 'O1', 'Oz', 'Pz', 'Fp2', 'AF4', 'Fz', 'F4', 'F8', 'FC6', 'FC2', 'Cz', 'C4', 'T8', 'CP6', 'CP2', 'P4', 'P8', 'PO4', 'O2', 'EXG1', 'EXG2', 'EXG3', 'GSR1', 'Resp', 'Temp', 'Status']\n",
    "print(len(ch_info))"
   ]
  },
  {
   "cell_type": "code",
   "execution_count": 11,
   "metadata": {},
   "outputs": [
    {
     "data": {
      "text/plain": [
       "['/data/MAHNOB/hci_data.pkl']"
      ]
     },
     "execution_count": 11,
     "metadata": {},
     "output_type": "execute_result"
    }
   ],
   "source": [
    "# 整合上述信息保存成pkl\n",
    "ch_info = ['Fp1', 'AF3', 'F3', 'F7', 'FC5', 'FC1', 'C3', 'T7', 'CP5', 'CP1', 'P3', 'P7', 'PO3', 'O1', 'Oz', 'Pz', 'Fp2', 'AF4', 'Fz', 'F4', 'F8', 'FC6', 'FC2', 'Cz', 'C4', 'T8', 'CP6', 'CP2', 'P4', 'P8', 'PO4', 'O2', 'EXG1', 'EXG2', 'EXG3', 'GSR1', 'Resp', 'Temp', 'Status']\n",
    "data = {\n",
    "    \"eeg\": eeg_data,\n",
    "    \"eye\": eye_data,\n",
    "    \"pps\": pps_data,\n",
    "    \"arousal_label\": arousal_labels,\n",
    "    \"valence_label\": valence_labels,\n",
    "    \"subject_list\": subject_lists,\n",
    "    \"ch_info\": ch_info,\n",
    "    \"info\": \"EEG: 1-70filer, 50Hz notch, 256Hz resample;\\n\\\n",
    "Subject : 1-30 subject, no 3,9,12,15,16,25 subject; 24 person, 20 trial, 32 EEG channel, 7 pps channels;\\n\\\n",
    "Labels :    Arousal: 0:[\\\"Sadness\\\", \\\"Disgust\\\", \\\"Neutral\\\"]、1:[\\\"Joy, Happiness\\\", \\\"Amusement\\\"] 2:[\\\"Surprise\\\", \\\"Fear\\\", \\\"Anger\\\", \\\"Anxiety\\\"]\\n\\\n",
    "    Valence: 0:[\\\"Fear\\\", \\\"Anger\\\", \\\"Disgust\\\", \\\"Sadness\\\", \\\"Anxiety\\\"] 1:[\\\"Surprise\\\", \\\"Neutral\\\"] 2:[\\\"Joy, Happiness\\\", \\\"Amusement\\\"]\\n\\\n",
    "Eye Track data : DistanceLeft，PupilLeft，ValidityLeft，Distance Right，Pupil Right，Validity Right，Fixation Index，Gaze Point X，Gaze Point Y，Fixation Duration\\n\\\n",
    "     PPS data : ECG, GSR，Resp，Temp，Status\",\n",
    "}\n",
    "\n",
    "hci_data_pkl = \"/data/MAHNOB/hci_data.pkl\"\n",
    "joblib.dump(data, hci_data_pkl)"
   ]
  },
  {
   "cell_type": "code",
   "execution_count": 5,
   "metadata": {},
   "outputs": [
    {
     "name": "stdout",
     "output_type": "stream",
     "text": [
      "(15540, 585)\n"
     ]
    },
    {
     "data": {
      "text/plain": [
       "['/data/MAHNOB/de_features.pkl']"
      ]
     },
     "execution_count": 5,
     "metadata": {},
     "output_type": "execute_result"
    }
   ],
   "source": [
    "# 保存早已处理好的de特征至pkl\n",
    "hci_de_features_path = \"/data/MAHNOB/ExtractedFeatures2/node_features_combine.npy\"\n",
    "hci_de_features = np.load(hci_de_features_path)\n",
    "print(hci_de_features.shape)\n",
    "\n",
    "# 保存成pkl\n",
    "hci_de_features_pkl = \"/data/MAHNOB/de_features.pkl\"\n",
    "joblib.dump(hci_de_features, hci_de_features_pkl)"
   ]
  },
  {
   "cell_type": "code",
   "execution_count": 6,
   "metadata": {},
   "outputs": [
    {
     "name": "stdout",
     "output_type": "stream",
     "text": [
      "(20, 38)\n",
      "(20, 230)\n"
     ]
    }
   ],
   "source": [
    "# 看看眼动和pps特征\n",
    "subject_lists = [1, 2, 4, 5, 6, 7, 8, 10, 11, 13, 14, 17, 18, 19, 20, 21, 22, 23, 24, 26, 27, 28, 29, 30]\n",
    "hci_eye_features_path = \"/data/MAHNOB/eye_track_feature/{}.npy\"\n",
    "hci_pps_features_path = \"/data/MAHNOB/pps_features/{}.npy\"\n",
    "\n",
    "eye_feature = np.load(hci_eye_features_path.format(1))\n",
    "print(eye_feature.shape)\n",
    "\n",
    "pps_feature = np.load(hci_pps_features_path.format(1), allow_pickle=True).astype(np.float32)\n",
    "print(pps_feature.shape)"
   ]
  },
  {
   "cell_type": "code",
   "execution_count": 7,
   "metadata": {},
   "outputs": [
    {
     "name": "stdout",
     "output_type": "stream",
     "text": [
      "(24, 20, 38)\n",
      "(24, 20, 230)\n"
     ]
    }
   ],
   "source": [
    "eye_features = []\n",
    "pps_features = []\n",
    "\n",
    "for subject in subject_lists:\n",
    "    eye_feature = np.load(hci_eye_features_path.format(subject))\n",
    "    pps_feature = np.load(hci_pps_features_path.format(subject), allow_pickle=True).astype(np.float32)\n",
    "    eye_features.append(eye_feature)\n",
    "    pps_features.append(pps_feature)\n",
    "\n",
    "eye_features = np.array(eye_features)\n",
    "pps_features = np.array(pps_features)\n",
    "\n",
    "print(eye_features.shape)\n",
    "print(pps_features.shape)"
   ]
  },
  {
   "cell_type": "code",
   "execution_count": 8,
   "metadata": {},
   "outputs": [
    {
     "name": "stdout",
     "output_type": "stream",
     "text": [
      "(420,)\n",
      "(420,)\n",
      "{0, 1, 2}\n",
      "{0, 1, 2}\n"
     ]
    }
   ],
   "source": [
    "# label\n",
    "arousal_label_path = \"/data/MAHNOB/ExtractedFeatures2/arousal_label.npy\"\n",
    "valence_label_path = \"/data/MAHNOB/ExtractedFeatures2/valence_label.npy\"\n",
    "\n",
    "arousal_label = np.load(arousal_label_path)\n",
    "valence_label = np.load(valence_label_path)\n",
    "\n",
    "print(arousal_label.shape)\n",
    "print(valence_label.shape)\n",
    "print(set(arousal_label))\n",
    "print(set(valence_label))"
   ]
  },
  {
   "cell_type": "code",
   "execution_count": 9,
   "metadata": {},
   "outputs": [
    {
     "name": "stdout",
     "output_type": "stream",
     "text": [
      "[1, 2, 4, 5, 6, 7, 8, 10, 11, 13, 14, 17, 18, 19, 20, 21, 22, 23, 24, 26, 27, 28, 29, 30]\n",
      "24\n"
     ]
    }
   ],
   "source": [
    "print(subject_lists)\n",
    "print(len(subject_lists))"
   ]
  },
  {
   "cell_type": "code",
   "execution_count": 10,
   "metadata": {},
   "outputs": [
    {
     "data": {
      "text/plain": [
       "['/data/MAHNOB/hci_data.pkl']"
      ]
     },
     "execution_count": 10,
     "metadata": {},
     "output_type": "execute_result"
    }
   ],
   "source": [
    "# 整合上述信息保存成pkl\n",
    "ch_info = ['Fp1', 'AF3', 'F3', 'F7', 'FC5', 'FC1', 'C3', 'T7', 'CP5', 'CP1', 'P3', 'P7', 'PO3', 'O1', 'Oz', 'Pz', 'Fp2', 'AF4', 'Fz', 'F4', 'F8', 'FC6', 'FC2', 'Cz', 'C4', 'T8', 'CP6', 'CP2', 'P4', 'P8', 'PO4', 'O2', 'EXG1', 'EXG2', 'EXG3', 'GSR1', 'Resp', 'Temp', 'Status']\n",
    "data = {\n",
    "    \"raw_data\":{\n",
    "        \"eeg\": eeg_data,\n",
    "        \"eye\": eye_data,\n",
    "        \"pps\": pps_data,\n",
    "    },\n",
    "    \"features\":{\n",
    "        \"eeg\": hci_de_features,\n",
    "        \"eye\": eye_features,\n",
    "        \"pps\": pps_features,\n",
    "    },\n",
    "    \"arousal_label\": arousal_label,\n",
    "    \"valence_label\": valence_label,\n",
    "    \"subject_list\": subject_lists,\n",
    "    \"ch_info\": ch_info,\n",
    "    \"info\": \"EEG: 1-70filer, 50Hz notch, 256Hz resample;\\n\\\n",
    "Subject : 1-30 subject, no 3,9,12,15,16,25 subject; 24 person, 20 trial, 32 EEG channel, 7 pps channels;\\n\\\n",
    "Labels :    Arousal: 0:[\\\"Sadness\\\", \\\"Disgust\\\", \\\"Neutral\\\"]、1:[\\\"Joy, Happiness\\\", \\\"Amusement\\\"] 2:[\\\"Surprise\\\", \\\"Fear\\\", \\\"Anger\\\", \\\"Anxiety\\\"]\\n\\\n",
    "    Valence: 0:[\\\"Fear\\\", \\\"Anger\\\", \\\"Disgust\\\", \\\"Sadness\\\", \\\"Anxiety\\\"] 1:[\\\"Surprise\\\", \\\"Neutral\\\"] 2:[\\\"Joy, Happiness\\\", \\\"Amusement\\\"]\\n\\\n",
    "Eye Track data : DistanceLeft，PupilLeft，ValidityLeft，Distance Right，Pupil Right，Validity Right，Fixation Index，Gaze Point X，Gaze Point Y，Fixation Duration\\n\\\n",
    "     PPS data : ECG, GSR，Resp，Temp，Status\\n\\\n",
    "        Features: \\n\\\n",
    "            \\t DE features,\\n\\\n",
    "            \\t Eye features: Pupil diameter (mean value, standard deviation, and spectral energy in frequency bands of 0 - 0.2Hz, 0.2 - 0.4Hz, 0.4 - 0.6Hz, and 0.6 - 1Hz); Eye's viewing distance from the screen (approach time ratio, avoidance time ratio, approach rate and average approach rate); Blinking (blink depth, blink rate, maximum blink duration, and total eye - closed time);Eye fixation coordinates on the screen (standard deviation, skewness, kurtosis of horizontal and vertical coordinates, average saccade path length, as well as the mean and standard deviation of the standard deviation for each fixation interval as time - domain features); Some frequency - domain features:(spectral energy in frequency bands of 0 - 0.2Hz, 0.2 - 0.4Hz, 0.4 - 0.6Hz, 0.6 - 0.8Hz, and 1 - 2Hz); Global features (average fixation time and number of fixation areas) , \\n\\\n",
    "            \\t PPS features: For the ECG signal, features such as heart rate, heart rate variability, and heart rate spectral energy were extracted. For the GSR signal, features including skin conductance, rate of change of skin conductance, and skin conductance spectral energy were extracted. The skin temperature signal encompasses features like skin temperature, rate of change of skin temperature, and skin temperature spectral energy. As for the respiratory signal, features such as respiratory rate, rate of change of respiratory rate, and respiratory rate spectral energy were extracted. \",\n",
    "}\n",
    "\n",
    "hci_data_pkl = \"/data/MAHNOB/hci_data.pkl\"\n",
    "joblib.dump(data, hci_data_pkl)"
   ]
  },
  {
   "cell_type": "markdown",
   "metadata": {},
   "source": [
    "## 整合新的数据"
   ]
  },
  {
   "cell_type": "code",
   "execution_count": 2,
   "metadata": {},
   "outputs": [],
   "source": [
    "import os\n",
    "import sys\n",
    "import yaml\n",
    "from pathlib import Path\n",
    "import pandas as pd\n",
    "import numpy as np\n",
    "import joblib\n",
    "def add_project_root_to_sys_path():\n",
    "    \"\"\"动态添加项目根目录到 sys.path\"\"\"\n",
    "    project_root = Path.cwd().resolve().parent.parent\n",
    "    if str(project_root) not in sys.path:\n",
    "        sys.path.append(str(project_root))\n",
    "\n",
    "add_project_root_to_sys_path()\n",
    "\n",
    "from raw_data_process.hci import data_read as hdr"
   ]
  },
  {
   "cell_type": "code",
   "execution_count": 5,
   "metadata": {},
   "outputs": [
    {
     "name": "stdout",
     "output_type": "stream",
     "text": [
      "dict_keys(['raw_data', 'features', 'arousal_label', 'valence_label', 'subject_list', 'ch_info', 'info'])\n",
      "(480, 32, 585)\n"
     ]
    }
   ],
   "source": [
    "data_path = \"/data/MAHNOB/hci_data.pkl\"\n",
    "de_path = \"/data/MAHNOB/de_features.pkl\"\n",
    "\n",
    "data = joblib.load(data_path)\n",
    "de = joblib.load(de_path)\n",
    "print(data.keys())\n",
    "print(de.shape)"
   ]
  },
  {
   "cell_type": "code",
   "execution_count": 6,
   "metadata": {},
   "outputs": [
    {
     "data": {
      "text/plain": [
       "['/data/MAHNOB/hci_data.pkl']"
      ]
     },
     "execution_count": 6,
     "metadata": {},
     "output_type": "execute_result"
    }
   ],
   "source": [
    "data[\"features\"][\"eeg\"] = de\n",
    "joblib.dump(data, data_path)"
   ]
  }
 ],
 "metadata": {
  "kernelspec": {
   "display_name": "torch",
   "language": "python",
   "name": "python3"
  },
  "language_info": {
   "codemirror_mode": {
    "name": "ipython",
    "version": 3
   },
   "file_extension": ".py",
   "mimetype": "text/x-python",
   "name": "python",
   "nbconvert_exporter": "python",
   "pygments_lexer": "ipython3",
   "version": "3.8.18"
  }
 },
 "nbformat": 4,
 "nbformat_minor": 2
}
