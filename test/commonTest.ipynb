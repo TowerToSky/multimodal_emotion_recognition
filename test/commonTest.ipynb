{
 "cells": [
  {
   "cell_type": "markdown",
   "metadata": {},
   "source": [
    "# 介绍\n",
    "\n",
    "一个常用的测试的notebook文件，用于查看想要查看的内容，或者一些测试代码等。"
   ]
  },
  {
   "cell_type": "markdown",
   "metadata": {},
   "source": [
    "## 导包\n",
    "通用导包，所有导包都放在这儿，之后测试一次性加载即可"
   ]
  },
  {
   "cell_type": "code",
   "execution_count": 1,
   "metadata": {},
   "outputs": [
    {
     "name": "stdout",
     "output_type": "stream",
     "text": [
      "/mnt/nvme1/yihaoyuan/Raven/RavenEx/multimodal_emotion_recognition\n"
     ]
    }
   ],
   "source": [
    "import os\n",
    "import sys\n",
    "import math\n",
    "import json\n",
    "import time\n",
    "import random\n",
    "\n",
    "import numpy as np\n",
    "import torch\n",
    "import torch.nn as nn\n",
    "import torch.optim as optim\n",
    "import torch.nn.functional as F\n",
    "import sklearn\n",
    "import joblib\n",
    "from tqdm import tqdm\n",
    "\n",
    "# 获取项目根目录的绝对路径\n",
    "project_root = os.path.abspath(os.path.join(os.getcwd(), \"..\"))\n",
    "print(project_root)\n",
    "# 将项目根目录添加到 sys.path\n",
    "if project_root not in sys.path:\n",
    "    sys.path.append(project_root)\n",
    "from common import utils\n"
   ]
  },
  {
   "cell_type": "code",
   "execution_count": null,
   "metadata": {},
   "outputs": [
    {
     "name": "stdout",
     "output_type": "stream",
     "text": [
      "(50592, 150)\n"
     ]
    }
   ],
   "source": [
    "# 之前的node features形状\n",
    "eeg_path = \"/data/Ruiwen/ExtractedFeatures2/node_features_combine.npy\"\n",
    "eeg = np.load(eeg_path)\n",
    "print(eeg.shape)"
   ]
  },
  {
   "cell_type": "code",
   "execution_count": 23,
   "metadata": {},
   "outputs": [
    {
     "name": "stdout",
     "output_type": "stream",
     "text": [
      "dict_keys(['label', 'subject_list', 'ch_info', 'info', 'eye_info', 'eeg', 'eye', 'au'])\n",
      "EEG: 1-70filer, 50Hz notch, With ICA, 256Hz resample;\n",
      "Subject : 1-34 subject, no 1,23,32 subject, 15 subject exists eye data missing; 31 person, 48 question, 31 channel;\n",
      "Labels : 0: Confused,1: Guess, 2:Unconfused, 4: Think-right;\n",
      "Eye Track data : Pupil diameter left, Pupil diameter right,Gaze point X, Gaze point Y, Eye movement type, Gaze event duration\n",
      "['Fp1', 'F3', 'F7', 'FT9', 'FC5', 'FC1', 'C3', 'T7', 'TP9', 'CP5', 'CP1', 'Pz', 'P3', 'P7', 'O1', 'Oz', 'O2', 'P4', 'P8', 'TP10', 'CP6', 'CP2', 'Cz', 'C4', 'T8', 'FT10', 'FC6', 'FC2', 'F4', 'F8', 'Fp2']\n",
      "[2, 3, 4, 5, 6, 7, 8, 9, 10, 11, 12, 13, 14, 15, 16, 17, 18, 19, 20, 21, 22, 24, 25, 26, 27, 28, 29, 30, 31, 33, 34]\n"
     ]
    }
   ],
   "source": [
    "# 现有的用来分析的数据形式如下\n",
    "ruiwen_path = \"/data/Ruiwen/data_with_ICA.pkl\"  # 只包含脑电和眼动，不包含人脸\n",
    "ruiwen_data = joblib.load(ruiwen_path)\n",
    "print(ruiwen_data.keys())\n",
    "print(ruiwen_data[\"info\"])\n",
    "print(ruiwen_data['ch_info'])\n",
    "\n",
    "subject_lists = ruiwen_data['subject_list']\n",
    "print(subject_lists)"
   ]
  },
  {
   "cell_type": "code",
   "execution_count": 24,
   "metadata": {},
   "outputs": [
    {
     "name": "stdout",
     "output_type": "stream",
     "text": [
      "31\n"
     ]
    }
   ],
   "source": [
    "eeg_data = ruiwen_data['eeg']\n",
    "print(len(eeg_data))"
   ]
  },
  {
   "cell_type": "code",
   "execution_count": null,
   "metadata": {},
   "outputs": [
    {
     "name": "stdout",
     "output_type": "stream",
     "text": [
      "31\n"
     ]
    }
   ],
   "source": [
    "au_feature = ruiwen_data['au']\n",
    "print(len(au_feature))\n"
   ]
  },
  {
   "cell_type": "code",
   "execution_count": 28,
   "metadata": {},
   "outputs": [
    {
     "name": "stderr",
     "output_type": "stream",
     "text": [
      "31it [00:00, 807598.91it/s]\n"
     ]
    }
   ],
   "source": [
    "for i, subject_list in tqdm(enumerate(subject_lists)):\n",
    "    trials = eeg_data[i]\n"
   ]
  },
  {
   "cell_type": "code",
   "execution_count": 33,
   "metadata": {},
   "outputs": [
    {
     "name": "stdout",
     "output_type": "stream",
     "text": [
      "<class 'list'>\n",
      "<class 'list'>\n",
      "48\n",
      "(433, 6)\n",
      "<class 'list'>\n",
      "48\n",
      "(418, 6)\n",
      "<class 'list'>\n",
      "48\n",
      "(596, 6)\n",
      "<class 'list'>\n",
      "48\n",
      "(349, 6)\n",
      "<class 'list'>\n",
      "48\n",
      "(855, 6)\n",
      "<class 'list'>\n",
      "48\n",
      "(389, 6)\n",
      "<class 'list'>\n",
      "48\n",
      "(507, 6)\n",
      "<class 'list'>\n",
      "48\n",
      "(830, 6)\n",
      "<class 'list'>\n",
      "48\n",
      "(617, 6)\n",
      "<class 'list'>\n",
      "48\n",
      "(655, 6)\n",
      "<class 'list'>\n",
      "48\n",
      "(875, 6)\n",
      "<class 'list'>\n",
      "48\n",
      "(854, 6)\n",
      "<class 'list'>\n",
      "48\n",
      "(697, 6)\n",
      "<class 'list'>\n",
      "48\n",
      "(730, 6)\n",
      "<class 'list'>\n",
      "48\n",
      "(673, 6)\n",
      "<class 'list'>\n",
      "48\n",
      "(902, 6)\n",
      "<class 'list'>\n",
      "48\n",
      "(560, 6)\n",
      "<class 'list'>\n",
      "48\n",
      "(848, 6)\n",
      "<class 'list'>\n",
      "48\n",
      "(825, 6)\n",
      "<class 'list'>\n",
      "48\n",
      "(485, 6)\n",
      "<class 'list'>\n",
      "48\n",
      "(875, 6)\n",
      "<class 'list'>\n",
      "48\n",
      "(579, 6)\n",
      "<class 'list'>\n",
      "48\n",
      "(652, 6)\n",
      "<class 'list'>\n",
      "48\n",
      "(581, 6)\n",
      "<class 'list'>\n",
      "48\n",
      "(660, 6)\n",
      "<class 'list'>\n",
      "48\n",
      "(638, 6)\n",
      "<class 'list'>\n",
      "48\n",
      "(442, 6)\n",
      "<class 'list'>\n",
      "48\n",
      "(324, 6)\n",
      "<class 'list'>\n",
      "48\n",
      "(735, 6)\n",
      "<class 'list'>\n",
      "48\n",
      "(904, 6)\n",
      "<class 'list'>\n",
      "48\n",
      "(472, 6)\n"
     ]
    }
   ],
   "source": [
    "# 眼动特征\n",
    "eye_data = ruiwen_data['eye']\n",
    "print(type(eye_data))\n",
    "for per in eye_data:\n",
    "    print(type(per))\n",
    "    print(len(per))\n",
    "    print(per[0].shape)\n"
   ]
  },
  {
   "cell_type": "code",
   "execution_count": 37,
   "metadata": {},
   "outputs": [
    {
     "name": "stdout",
     "output_type": "stream",
     "text": [
      "/data/Ruiwen\n"
     ]
    }
   ],
   "source": [
    "data_path = \"/data/Ruiwen/data_with_ICA.pkl\"\n",
    "print(utils.find_nearest_folder(data_path))"
   ]
  },
  {
   "cell_type": "code",
   "execution_count": 38,
   "metadata": {},
   "outputs": [
    {
     "name": "stdout",
     "output_type": "stream",
     "text": [
      "(48, 41)\n",
      "(48, 41)\n",
      "(48, 41)\n",
      "(48, 41)\n",
      "(48, 41)\n",
      "(48, 41)\n",
      "(48, 41)\n",
      "(48, 41)\n",
      "(48, 41)\n",
      "(48, 41)\n",
      "(48, 41)\n",
      "(48, 41)\n",
      "(48, 41)\n",
      "(48, 41)\n",
      "(48, 41)\n",
      "(48, 41)\n",
      "(48, 41)\n",
      "(48, 41)\n",
      "(48, 41)\n",
      "(48, 41)\n",
      "(48, 41)\n",
      "(48, 41)\n",
      "(48, 41)\n",
      "(48, 41)\n",
      "(48, 41)\n",
      "(48, 41)\n",
      "(48, 41)\n",
      "(48, 41)\n",
      "(48, 41)\n",
      "(48, 41)\n",
      "(48, 41)\n"
     ]
    }
   ],
   "source": [
    "eye_features_path = \"/data/Ruiwen/eye_track_feature\"\n",
    "for id in subject_lists:\n",
    "    path = os.path.join(eye_features_path, f\"{str(id)}.npy\")\n",
    "    feature = np.load(path)\n",
    "    print(feature.shape)"
   ]
  },
  {
   "cell_type": "markdown",
   "metadata": {},
   "source": [
    "\n",
    "## 修改数据key，此外把AU添加其中"
   ]
  },
  {
   "cell_type": "code",
   "execution_count": 19,
   "metadata": {},
   "outputs": [
    {
     "name": "stdout",
     "output_type": "stream",
     "text": [
      "dict_keys(['eeg_data', 'eye_track_data', 'label', 'subject_list', 'ch_info', 'info', 'eye_info'])\n",
      "EEG: 1-70filer, 50Hz notch, With ICA, 256Hz resample;\n",
      "Subject : 1-34 subject, no 1,23,32 subject, 15 subject exists eye data missing; 31 person, 48 question, 31 channel;\n",
      "Labels : 0: Confused,1: Guess, 2:Unconfused, 4: Think-right;\n",
      "Eye Track data : Pupil diameter left, Pupil diameter right,Gaze point X, Gaze point Y, Eye movement type, Gaze event duration\n",
      "['Fp1', 'F3', 'F7', 'FT9', 'FC5', 'FC1', 'C3', 'T7', 'TP9', 'CP5', 'CP1', 'Pz', 'P3', 'P7', 'O1', 'Oz', 'O2', 'P4', 'P8', 'TP10', 'CP6', 'CP2', 'Cz', 'C4', 'T8', 'FT10', 'FC6', 'FC2', 'F4', 'F8', 'Fp2']\n",
      "dict_keys(['label', 'subject_list', 'ch_info', 'info', 'eye_info', 'eeg', 'eye'])\n"
     ]
    }
   ],
   "source": [
    "# 现有的用来分析的数据形式如下\n",
    "ruiwen_path = \"/data/Ruiwen/data_with_ICA.pkl\"  # 只包含脑电和眼动，不包含人脸\n",
    "ruiwen_data = joblib.load(ruiwen_path)\n",
    "print(ruiwen_data.keys())\n",
    "print(ruiwen_data[\"info\"])\n",
    "print(ruiwen_data['ch_info'])\n",
    "# print(ruiwen_data.info)\n",
    "\n",
    "# 首先修改一下key，然后把AU特征也添加其中\n",
    "ruiwen_data['eeg'] = ruiwen_data.pop('eeg_data')\n",
    "ruiwen_data['eye'] = ruiwen_data.pop('eye_track_data')\n",
    "print(ruiwen_data.keys())\n"
   ]
  },
  {
   "cell_type": "code",
   "execution_count": 20,
   "metadata": {},
   "outputs": [
    {
     "name": "stdout",
     "output_type": "stream",
     "text": [
      "[2, 3, 4, 5, 6, 7, 8, 9, 10, 11, 12, 13, 14, 15, 16, 17, 18, 19, 20, 21, 22, 24, 25, 26, 27, 28, 29, 30, 31, 33, 34]\n",
      "31\n",
      "<class 'list'>\n",
      "(31, 48, 119)\n",
      "dict_keys(['label', 'subject_list', 'ch_info', 'info', 'eye_info', 'eeg', 'eye', 'au'])\n"
     ]
    }
   ],
   "source": [
    "\n",
    "# 加载AU特征\n",
    "subject_lists = ruiwen_data['subject_list']\n",
    "print(subject_lists)\n",
    "print(len(subject_lists))\n",
    "print(type(subject_lists))\n",
    "au_path = \"/data/Ruiwen/au_feature\"\n",
    "au_features = []\n",
    "for subject in subject_lists:\n",
    "    au_feature = np.load(os.path.join(au_path, str(subject) + \".npy\"))\n",
    "    # print(au_feature.shape)\n",
    "    au_features.append(au_feature)\n",
    "au_features = np.array(au_features)\n",
    "print(au_features.shape)\n",
    "ruiwen_data['au'] = au_features\n",
    "print(ruiwen_data.keys())"
   ]
  },
  {
   "cell_type": "code",
   "execution_count": 21,
   "metadata": {},
   "outputs": [
    {
     "data": {
      "text/plain": [
       "['/data/Ruiwen/data_with_ICA.pkl']"
      ]
     },
     "execution_count": 21,
     "metadata": {},
     "output_type": "execute_result"
    }
   ],
   "source": [
    "# 保存新的数据\n",
    "ruiwen_path = \"/data/Ruiwen/data_with_ICA.pkl\"\n",
    "joblib.dump(ruiwen_data, ruiwen_path)"
   ]
  },
  {
   "cell_type": "code",
   "execution_count": 5,
   "metadata": {},
   "outputs": [
    {
     "name": "stdout",
     "output_type": "stream",
     "text": [
      "31\n",
      "48\n",
      "1847\n",
      "31\n",
      "31\n"
     ]
    }
   ],
   "source": [
    "eeg_data = ruiwen_data[\"eeg_data\"]  # 31，48,（sample_len, ch_nums)\n",
    "print(len(eeg_data))\n",
    "print(len(eeg_data[0]))\n",
    "print(len(eeg_data[0][0]))\n",
    "print(len(eeg_data[0][0][0]))\n",
    "print(len(eeg_data[0][0][0]))"
   ]
  },
  {
   "cell_type": "code",
   "execution_count": null,
   "metadata": {},
   "outputs": [
    {
     "name": "stdout",
     "output_type": "stream",
     "text": [
      "ExtractedData\n",
      "adjacency_list_20231217.mat\n",
      "adjacency\n",
      "Raven.zip\n",
      "adjacency_list_9.mat\n",
      "ExtractedFeatures2\n",
      "adjacency_list_8.mat\n",
      "data.pkl\n",
      "zhangyi\n",
      "adjacency_list.mat\n",
      "adjacency_list_20240425.mat\n",
      "adjacency_list_14.mat\n",
      "eye_track_feature\n",
      "adjacency_list_10.mat\n",
      "openface\n",
      "ExtractedFeatures\n",
      "adjacency_list_test.mat\n",
      "class_all.csv\n",
      "Raven\n",
      "dict_data.npy\n",
      "au_feature\n",
      "adjacency_list_multi_all.mat\n",
      "adjacency_list_20231214.mat\n",
      "data_with_ICA.pkl\n",
      "原始数据\n",
      "眼动数据分割.rar\n",
      "adjacency_list_16.mat\n",
      "adjacency_list_15.mat\n",
      "eeg_feature\n"
     ]
    }
   ],
   "source": [
    "# 之前用于训练的数据加载如下\n",
    "data_path = \"/data/Ruiwen\"\n",
    "print(\"\\n\".join(os.listdir(data_path)))\n",
    "eeg_path = os.path.join(data_path, \"ExtractedFeatures2\", \"node_features_combine.npy\")\n",
    "eye_dir_path = os.path.join(data_path, \"eye_track_feature\")\n",
    "face_dir_path = os.path.join(data_path, \"au_feature\")\n",
    "\n",
    "eeg_data = np.load(eeg_path)\n"
   ]
  },
  {
   "cell_type": "code",
   "execution_count": null,
   "metadata": {},
   "outputs": [],
   "source": []
  },
  {
   "cell_type": "code",
   "execution_count": null,
   "metadata": {},
   "outputs": [],
   "source": [
    "# "
   ]
  }
 ],
 "metadata": {
  "kernelspec": {
   "display_name": "torch",
   "language": "python",
   "name": "python3"
  },
  "language_info": {
   "codemirror_mode": {
    "name": "ipython",
    "version": 3
   },
   "file_extension": ".py",
   "mimetype": "text/x-python",
   "name": "python",
   "nbconvert_exporter": "python",
   "pygments_lexer": "ipython3",
   "version": "3.8.18"
  }
 },
 "nbformat": 4,
 "nbformat_minor": 2
}
